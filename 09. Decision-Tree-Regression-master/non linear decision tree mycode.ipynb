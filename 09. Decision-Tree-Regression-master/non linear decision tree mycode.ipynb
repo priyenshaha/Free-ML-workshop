{
 "cells": [
  {
   "cell_type": "code",
   "execution_count": 32,
   "metadata": {
    "collapsed": false
   },
   "outputs": [
    {
     "data": {
      "text/html": [
       "<div>\n",
       "<style scoped>\n",
       "    .dataframe tbody tr th:only-of-type {\n",
       "        vertical-align: middle;\n",
       "    }\n",
       "\n",
       "    .dataframe tbody tr th {\n",
       "        vertical-align: top;\n",
       "    }\n",
       "\n",
       "    .dataframe thead th {\n",
       "        text-align: right;\n",
       "    }\n",
       "</style>\n",
       "<table border=\"1\" class=\"dataframe\">\n",
       "  <thead>\n",
       "    <tr style=\"text-align: right;\">\n",
       "      <th></th>\n",
       "      <th>X</th>\n",
       "      <th>y</th>\n",
       "    </tr>\n",
       "  </thead>\n",
       "  <tbody>\n",
       "    <tr>\n",
       "      <th>0</th>\n",
       "      <td>0.011562</td>\n",
       "      <td>-0.435556</td>\n",
       "    </tr>\n",
       "    <tr>\n",
       "      <th>1</th>\n",
       "      <td>0.126902</td>\n",
       "      <td>0.991959</td>\n",
       "    </tr>\n",
       "    <tr>\n",
       "      <th>2</th>\n",
       "      <td>0.407993</td>\n",
       "      <td>0.917919</td>\n",
       "    </tr>\n",
       "    <tr>\n",
       "      <th>3</th>\n",
       "      <td>0.478538</td>\n",
       "      <td>0.887669</td>\n",
       "    </tr>\n",
       "    <tr>\n",
       "      <th>4</th>\n",
       "      <td>0.524606</td>\n",
       "      <td>0.865521</td>\n",
       "    </tr>\n",
       "  </tbody>\n",
       "</table>\n",
       "</div>"
      ],
      "text/plain": [
       "          X         y\n",
       "0  0.011562 -0.435556\n",
       "1  0.126902  0.991959\n",
       "2  0.407993  0.917919\n",
       "3  0.478538  0.887669\n",
       "4  0.524606  0.865521"
      ]
     },
     "execution_count": 32,
     "metadata": {},
     "output_type": "execute_result"
    }
   ],
   "source": [
    "import pandas as pd\n",
    "import matplotlib.pyplot as plt\n",
    "from sklearn.tree import DecisionTreeRegressor\n",
    "import numpy as np\n",
    "data = pd.read_csv('Data.csv')\n",
    "data.head()"
   ]
  },
  {
   "cell_type": "code",
   "execution_count": 9,
   "metadata": {
    "collapsed": false
   },
   "outputs": [
    {
     "data": {
      "text/plain": [
       "(array([[ 0.01156173],\n",
       "        [ 0.1269017 ],\n",
       "        [ 0.40799266],\n",
       "        [ 0.47853787],\n",
       "        [ 0.52460608],\n",
       "        [ 0.74062657],\n",
       "        [ 0.90498954],\n",
       "        [ 0.95900955],\n",
       "        [ 1.04053036],\n",
       "        [ 1.33638407],\n",
       "        [ 1.42667198],\n",
       "        [ 1.50012987],\n",
       "        [ 2.01864464],\n",
       "        [ 2.15630122],\n",
       "        [ 2.44864451],\n",
       "        [ 2.48180176],\n",
       "        [ 2.58784674],\n",
       "        [ 2.66917528],\n",
       "        [ 2.80844126],\n",
       "        [ 2.878187  ],\n",
       "        [ 2.90822982],\n",
       "        [ 2.9453425 ],\n",
       "        [ 3.03948938],\n",
       "        [ 3.05280152],\n",
       "        [ 3.19051304],\n",
       "        [ 3.20615825],\n",
       "        [ 3.24758696],\n",
       "        [ 3.28761198],\n",
       "        [ 3.3121565 ],\n",
       "        [ 3.78229829],\n",
       "        [ 3.79670319],\n",
       "        [ 3.81418961],\n",
       "        [ 3.91577754],\n",
       "        [ 4.19800501],\n",
       "        [ 4.43766656],\n",
       "        [ 4.73658247],\n",
       "        [ 4.7563214 ],\n",
       "        [ 4.76509583],\n",
       "        [ 4.90161237],\n",
       "        [ 4.9094606 ]]),\n",
       " array([-0.43555628,  0.99195878,  0.91791912,  0.88766915,  0.86552131,\n",
       "         0.48199076,  0.61769381,  0.57433107,  0.5057628 ,  0.23227136,\n",
       "         0.39316594,  0.07060765, -0.43302705, -0.55262025, -0.76936607,\n",
       "         0.2983436 , -0.85056061, -0.89047089, -0.94501646, -0.96550885,\n",
       "        -0.79453848, -0.98080466, -0.99479199, -0.99606066, -0.99880364,\n",
       "         0.34270123, -0.99438786, -0.98935811, -0.98548922, -0.80167415,\n",
       "         0.12846622, -0.78220635, -0.71499115, -0.49199863, -0.27127978,\n",
       "         0.52634385,  0.04391828,  0.05268245,  0.1880962 ,  0.19579847]))"
      ]
     },
     "execution_count": 9,
     "metadata": {},
     "output_type": "execute_result"
    }
   ],
   "source": [
    "x = data.iloc[:,:1].values\n",
    "y = data.y.values\n",
    "x,y"
   ]
  },
  {
   "cell_type": "code",
   "execution_count": 10,
   "metadata": {
    "collapsed": false
   },
   "outputs": [
    {
     "data": {
      "image/png": "[encoded data removed]",
      "text/plain": [
       "<matplotlib.figure.Figure at 0x1fb40fd66a0>"
      ]
     },
     "metadata": {},
     "output_type": "display_data"
    }
   ],
   "source": [
    "plt.scatter(x,y)\n",
    "plt.show()"
   ]
  },
  {
   "cell_type": "code",
   "execution_count": 12,
   "metadata": {
    "collapsed": false
   },
   "outputs": [
    {
     "data": {
      "text/plain": [
       "DecisionTreeRegressor(criterion='mse', max_depth=2, max_features=None,\n",
       "           max_leaf_nodes=None, min_impurity_split=1e-07,\n",
       "           min_samples_leaf=1, min_samples_split=2,\n",
       "           min_weight_fraction_leaf=0.0, presort=False, random_state=None,\n",
       "           splitter='best')"
      ]
     },
     "execution_count": 12,
     "metadata": {},
     "output_type": "execute_result"
    }
   ],
   "source": [
    "regr = DecisionTreeRegressor(max_depth=2)\n",
    "regr.fit(x,y)"
   ]
  },
  {
   "cell_type": "code",
   "execution_count": 24,
   "metadata": {
    "collapsed": false
   },
   "outputs": [
    {
     "data": {
      "image/png": "[encoded data removed]",
      "text/plain": [
       "<matplotlib.figure.Figure at 0x1fb42d57358>"
      ]
     },
     "metadata": {},
     "output_type": "display_data"
    }
   ],
   "source": [
    "y_pred = regr.predict(x)\n",
    "plt.figure()\n",
    "plt.scatter(x,y,color='r',s=20, edgecolor='black',label=\"data\")\n",
    "plt.plot(x,y_pred,color='yellow',linewidth=2,label=\"max_depth=2\")\n",
    "plt.legend()\n",
    "plt.show()"
   ]
  },
  {
   "cell_type": "code",
   "execution_count": 38,
   "metadata": {
    "collapsed": false
   },
   "outputs": [
    {
     "data": {
      "text/plain": [
       "DecisionTreeRegressor(criterion='mse', max_depth=7, max_features=None,\n",
       "           max_leaf_nodes=None, min_impurity_split=1e-07,\n",
       "           min_samples_leaf=1, min_samples_split=2,\n",
       "           min_weight_fraction_leaf=0.0, presort=False, random_state=None,\n",
       "           splitter='best')"
      ]
     },
     "execution_count": 38,
     "metadata": {},
     "output_type": "execute_result"
    }
   ],
   "source": [
    "regr1 = DecisionTreeRegressor(max_depth=5)\n",
    "regr2 = DecisionTreeRegressor(max_depth=7)\n",
    "\n",
    "regr1.fit(x,y)\n",
    "regr2.fit(x,y)"
   ]
  },
  {
   "cell_type": "code",
   "execution_count": 47,
   "metadata": {
    "collapsed": false
   },
   "outputs": [],
   "source": [
    "x_test = np.arange(0.0,5.0,0.001)[:,np.newaxis]\n",
    "y1 = regr1.predict(x_test)\n",
    "y2 = regr2.predict(x_test)"
   ]
  },
  {
   "cell_type": "code",
   "execution_count": 49,
   "metadata": {
    "collapsed": false
   },
   "outputs": [
    {
     "data": {
      "image/png": "[encoded data removed]",
      "text/plain": [
       "<matplotlib.figure.Figure at 0x1fb43240ba8>"
      ]
     },
     "metadata": {},
     "output_type": "display_data"
    }
   ],
   "source": [
    "plt.figure()\n",
    "plt.scatter(x,y,color='b',edgecolor='black',label='data')\n",
    "plt.plot(x_test,y1,color='r',label='max_depth=5')\n",
    "plt.plot(x_test,y2,color='y',label='max_depth=7')\n",
    "plt.legend()\n",
    "plt.show()"
   ]
  },
  {
   "cell_type": "code",
   "execution_count": null,
   "metadata": {
    "collapsed": true
   },
   "outputs": [],
   "source": []
  }
 ],
 "metadata": {
  "kernelspec": {
   "display_name": "Python 3",
   "language": "python",
   "name": "python3"
  },
  "language_info": {
   "codemirror_mode": {
    "name": "ipython",
    "version": 3
   },
   "file_extension": ".py",
   "mimetype": "text/x-python",
   "name": "python",
   "nbconvert_exporter": "python",
   "pygments_lexer": "ipython3",
   "version": "3.6.0"
  }
 },
 "nbformat": 4,
 "nbformat_minor": 2
}
