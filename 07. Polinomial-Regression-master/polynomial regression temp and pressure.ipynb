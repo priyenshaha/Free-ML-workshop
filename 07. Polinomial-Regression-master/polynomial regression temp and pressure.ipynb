{
 "cells": [
  {
   "cell_type": "code",
   "execution_count": 1,
   "metadata": {
    "collapsed": true
   },
   "outputs": [],
   "source": [
    "import pandas as pd\n",
    "import matplotlib.pyplot as plt\n",
    "import numpy as np"
   ]
  },
  {
   "cell_type": "code",
   "execution_count": 2,
   "metadata": {
    "collapsed": false
   },
   "outputs": [
    {
     "data": {
      "text/html": [
       "<div>\n",
       "<style scoped>\n",
       "    .dataframe tbody tr th:only-of-type {\n",
       "        vertical-align: middle;\n",
       "    }\n",
       "\n",
       "    .dataframe tbody tr th {\n",
       "        vertical-align: top;\n",
       "    }\n",
       "\n",
       "    .dataframe thead th {\n",
       "        text-align: right;\n",
       "    }\n",
       "</style>\n",
       "<table border=\"1\" class=\"dataframe\">\n",
       "  <thead>\n",
       "    <tr style=\"text-align: right;\">\n",
       "      <th></th>\n",
       "      <th>Temperature</th>\n",
       "      <th>Vapor_Pressure</th>\n",
       "    </tr>\n",
       "  </thead>\n",
       "  <tbody>\n",
       "    <tr>\n",
       "      <th>0</th>\n",
       "      <td>273</td>\n",
       "      <td>4.7</td>\n",
       "    </tr>\n",
       "    <tr>\n",
       "      <th>1</th>\n",
       "      <td>283</td>\n",
       "      <td>9.3</td>\n",
       "    </tr>\n",
       "    <tr>\n",
       "      <th>2</th>\n",
       "      <td>293</td>\n",
       "      <td>17.6</td>\n",
       "    </tr>\n",
       "    <tr>\n",
       "      <th>3</th>\n",
       "      <td>303</td>\n",
       "      <td>31.7</td>\n",
       "    </tr>\n",
       "    <tr>\n",
       "      <th>4</th>\n",
       "      <td>313</td>\n",
       "      <td>55.2</td>\n",
       "    </tr>\n",
       "  </tbody>\n",
       "</table>\n",
       "</div>"
      ],
      "text/plain": [
       "   Temperature  Vapor_Pressure\n",
       "0          273             4.7\n",
       "1          283             9.3\n",
       "2          293            17.6\n",
       "3          303            31.7\n",
       "4          313            55.2"
      ]
     },
     "execution_count": 2,
     "metadata": {},
     "output_type": "execute_result"
    }
   ],
   "source": [
    "data = pd.read_csv(\"Temperature_VaporPressure.csv\")\n",
    "data.head()"
   ]
  },
  {
   "cell_type": "code",
   "execution_count": 4,
   "metadata": {
    "collapsed": false
   },
   "outputs": [
    {
     "data": {
      "text/plain": [
       "array([[273],\n",
       "       [283],\n",
       "       [293],\n",
       "       [303],\n",
       "       [313],\n",
       "       [323],\n",
       "       [333],\n",
       "       [343],\n",
       "       [353],\n",
       "       [363],\n",
       "       [373]], dtype=int64)"
      ]
     },
     "execution_count": 4,
     "metadata": {},
     "output_type": "execute_result"
    }
   ],
   "source": [
    "x = data.iloc[:,:1].values\n",
    "x"
   ]
  },
  {
   "cell_type": "code",
   "execution_count": 5,
   "metadata": {
    "collapsed": false
   },
   "outputs": [
    {
     "data": {
      "text/plain": [
       "array([   4.7,    9.3,   17.6,   31.7,   55.2,   92.7,  149.2,  233.7,\n",
       "        355.2,  525.6,  760. ])"
      ]
     },
     "execution_count": 5,
     "metadata": {},
     "output_type": "execute_result"
    }
   ],
   "source": [
    "y = data.iloc[:,1].values\n",
    "y"
   ]
  },
  {
   "cell_type": "code",
   "execution_count": 7,
   "metadata": {
    "collapsed": false
   },
   "outputs": [
    {
     "data": {
      "image/png": "[encoded data removed]",
      "text/plain": [
       "<matplotlib.figure.Figure at 0x1ba5d9ec4e0>"
      ]
     },
     "metadata": {},
     "output_type": "display_data"
    }
   ],
   "source": [
    "plt.scatter(x,y,color='r')\n",
    "plt.show()"
   ]
  },
  {
   "cell_type": "code",
   "execution_count": 9,
   "metadata": {
    "collapsed": false
   },
   "outputs": [
    {
     "data": {
      "image/png": "[encoded data removed]",
      "text/plain": [
       "<matplotlib.figure.Figure at 0x1ba5eb82630>"
      ]
     },
     "metadata": {},
     "output_type": "display_data"
    }
   ],
   "source": [
    "from sklearn.linear_model import LinearRegression\n",
    "mymodel_linear = LinearRegression().fit(x,y)\n",
    "plt.scatter(x,y,color='r')\n",
    "plt.plot(x, mymodel_linear.predict(x),color='b')\n",
    "plt.show()"
   ]
  },
  {
   "cell_type": "code",
   "execution_count": 11,
   "metadata": {
    "collapsed": false
   },
   "outputs": [
    {
     "data": {
      "image/png": "[encoded data removed]",
      "text/plain": [
       "<matplotlib.figure.Figure at 0x1ba5eb99978>"
      ]
     },
     "metadata": {},
     "output_type": "display_data"
    }
   ],
   "source": [
    "from scipy import stats as st\n",
    "res = mymodel_linear.predict(x)-y\n",
    "st.probplot(res,plot=plt)\n",
    "plt.show()"
   ]
  },
  {
   "cell_type": "code",
   "execution_count": 12,
   "metadata": {
    "collapsed": true
   },
   "outputs": [],
   "source": [
    "from sklearn.preprocessing import PolynomialFeatures"
   ]
  },
  {
   "cell_type": "code",
   "execution_count": 13,
   "metadata": {
    "collapsed": false
   },
   "outputs": [
    {
     "data": {
      "text/plain": [
       "array([[  1.00000000e+00,   2.73000000e+02,   7.45290000e+04],\n",
       "       [  1.00000000e+00,   2.83000000e+02,   8.00890000e+04],\n",
       "       [  1.00000000e+00,   2.93000000e+02,   8.58490000e+04],\n",
       "       [  1.00000000e+00,   3.03000000e+02,   9.18090000e+04],\n",
       "       [  1.00000000e+00,   3.13000000e+02,   9.79690000e+04],\n",
       "       [  1.00000000e+00,   3.23000000e+02,   1.04329000e+05],\n",
       "       [  1.00000000e+00,   3.33000000e+02,   1.10889000e+05],\n",
       "       [  1.00000000e+00,   3.43000000e+02,   1.17649000e+05],\n",
       "       [  1.00000000e+00,   3.53000000e+02,   1.24609000e+05],\n",
       "       [  1.00000000e+00,   3.63000000e+02,   1.31769000e+05],\n",
       "       [  1.00000000e+00,   3.73000000e+02,   1.39129000e+05]])"
      ]
     },
     "execution_count": 13,
     "metadata": {},
     "output_type": "execute_result"
    }
   ],
   "source": [
    "x_poly = PolynomialFeatures(degree=2).fit_transform(x)\n",
    "x_poly"
   ]
  },
  {
   "cell_type": "code",
   "execution_count": 17,
   "metadata": {
    "collapsed": true
   },
   "outputs": [],
   "source": [
    "mymodel_poly=LinearRegression().fit(x_poly,y)"
   ]
  },
  {
   "cell_type": "code",
   "execution_count": 18,
   "metadata": {
    "collapsed": false
   },
   "outputs": [
    {
     "data": {
      "image/png": "[encoded data removed]",
      "text/plain": [
       "<matplotlib.figure.Figure at 0x1ba5ead2438>"
      ]
     },
     "metadata": {},
     "output_type": "display_data"
    }
   ],
   "source": [
    "plt.scatter(x,y,color='r')\n",
    "plt.plot(x,mymodel_poly.predict(x_poly),color='b')\n",
    "plt.show()"
   ]
  },
  {
   "cell_type": "code",
   "execution_count": 20,
   "metadata": {
    "collapsed": false
   },
   "outputs": [
    {
     "data": {
      "text/plain": [
       "array([[  1.00000000e+00,   2.73000000e+02,   7.45290000e+04,\n",
       "          2.03464170e+07,   5.55457184e+09],\n",
       "       [  1.00000000e+00,   2.83000000e+02,   8.00890000e+04,\n",
       "          2.26651870e+07,   6.41424792e+09],\n",
       "       [  1.00000000e+00,   2.93000000e+02,   8.58490000e+04,\n",
       "          2.51537570e+07,   7.37005080e+09],\n",
       "       [  1.00000000e+00,   3.03000000e+02,   9.18090000e+04,\n",
       "          2.78181270e+07,   8.42889248e+09],\n",
       "       [  1.00000000e+00,   3.13000000e+02,   9.79690000e+04,\n",
       "          3.06642970e+07,   9.59792496e+09],\n",
       "       [  1.00000000e+00,   3.23000000e+02,   1.04329000e+05,\n",
       "          3.36982670e+07,   1.08845402e+10],\n",
       "       [  1.00000000e+00,   3.33000000e+02,   1.10889000e+05,\n",
       "          3.69260370e+07,   1.22963703e+10],\n",
       "       [  1.00000000e+00,   3.43000000e+02,   1.17649000e+05,\n",
       "          4.03536070e+07,   1.38412872e+10],\n",
       "       [  1.00000000e+00,   3.53000000e+02,   1.24609000e+05,\n",
       "          4.39869770e+07,   1.55274029e+10],\n",
       "       [  1.00000000e+00,   3.63000000e+02,   1.31769000e+05,\n",
       "          4.78321470e+07,   1.73630694e+10],\n",
       "       [  1.00000000e+00,   3.73000000e+02,   1.39129000e+05,\n",
       "          5.18951170e+07,   1.93568786e+10]])"
      ]
     },
     "execution_count": 20,
     "metadata": {},
     "output_type": "execute_result"
    }
   ],
   "source": [
    "x_poly = PolynomialFeatures(degree=4)\n",
    "x_fit = x_poly.fit_transform(x)\n",
    "x_fit"
   ]
  },
  {
   "cell_type": "code",
   "execution_count": 22,
   "metadata": {
    "collapsed": false
   },
   "outputs": [
    {
     "data": {
      "image/png": "[encoded data removed]",
      "text/plain": [
       "<matplotlib.figure.Figure at 0x1ba5fe5f588>"
      ]
     },
     "metadata": {},
     "output_type": "display_data"
    }
   ],
   "source": [
    "mymodel_poly = LinearRegression().fit(x_fit,y)\n",
    "plt.scatter(x,y,color='r')\n",
    "plt.plot(x,mymodel_poly.predict(x_fit),color='b')\n",
    "plt.show()"
   ]
  },
  {
   "cell_type": "code",
   "execution_count": 27,
   "metadata": {
    "collapsed": false
   },
   "outputs": [
    {
     "data": {
      "text/plain": [
       "array([[  1.00000000e+00,   3.59000000e+02,   1.28881000e+05,\n",
       "          4.62682790e+07,   1.66103122e+10]])"
      ]
     },
     "execution_count": 27,
     "metadata": {},
     "output_type": "execute_result"
    }
   ],
   "source": [
    "x_poly.fit_transform(359)"
   ]
  },
  {
   "cell_type": "code",
   "execution_count": 28,
   "metadata": {
    "collapsed": false
   },
   "outputs": [
    {
     "data": {
      "text/plain": [
       "array([ 451.0979035])"
      ]
     },
     "execution_count": 28,
     "metadata": {},
     "output_type": "execute_result"
    }
   ],
   "source": [
    "mymodel_poly.predict(x_poly.transform(359))"
   ]
  },
  {
   "cell_type": "code",
   "execution_count": null,
   "metadata": {
    "collapsed": false
   },
   "outputs": [],
   "source": []
  }
 ],
 "metadata": {
  "kernelspec": {
   "display_name": "Python 3",
   "language": "python",
   "name": "python3"
  },
  "language_info": {
   "codemirror_mode": {
    "name": "ipython",
    "version": 3
   },
   "file_extension": ".py",
   "mimetype": "text/x-python",
   "name": "python",
   "nbconvert_exporter": "python",
   "pygments_lexer": "ipython3",
   "version": "3.6.0"
  }
 },
 "nbformat": 4,
 "nbformat_minor": 2
}
